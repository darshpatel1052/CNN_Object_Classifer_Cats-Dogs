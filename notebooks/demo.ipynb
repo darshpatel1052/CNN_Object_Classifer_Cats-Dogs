{
 "cells": [
  {
   "cell_type": "code",
   "execution_count": null,
   "metadata": {
    "vscode": {
     "languageId": "plaintext"
    }
   },
   "outputs": [],
   "source": [
    "# Import necessary libraries and modules\n",
    "from src.models.sam_model import load_sam_model, generate_masks\n",
    "from src.models.inpainting_model import load_inpainting_model, inpaint_image\n",
    "from src.utils.image_processing import load_image, preprocess_mask"
   ]
  },
  {
   "cell_type": "code",
   "execution_count": null,
   "metadata": {
    "vscode": {
     "languageId": "plaintext"
    }
   },
   "outputs": [],
   "source": [
    "# Load models\n",
    "sam_model = load_sam_model()\n",
    "inpaint_pipe = load_inpainting_model()\n",
    "\n",
    "# Load input image and generate masks\n",
    "input_image_path = \"../data/input/sample_image.jpg\"\n",
    "input_image = load_image(input_image_path)\n",
    "\n",
    "masks = generate_masks(input_image, sam_model)\n"
   ]
  },
  {
   "cell_type": "code",
   "execution_count": null,
   "metadata": {
    "vscode": {
     "languageId": "plaintext"
    }
   },
   "outputs": [],
   "source": [
    "# Select a mask and preprocess it\n",
    "selected_mask = masks[0][\"segmentation\"]\n",
    "preprocessed_mask = preprocess_mask(selected_mask)\n",
    "\n",
    "# Perform inpainting with a text prompt\n",
    "prompt = \"A serene beach background\"\n",
    "result_image = inpaint_pipe(prompt=prompt, image=input_image, mask_image=preprocessed_mask).images[0]\n",
    "\n",
    "# Display results using matplotlib or PIL.Image.show()\n",
    "result_image.show()"
   ]
  }
 ],
 "metadata": {
  "language_info": {
   "name": "python"
  }
 },
 "nbformat": 4,
 "nbformat_minor": 2
}
